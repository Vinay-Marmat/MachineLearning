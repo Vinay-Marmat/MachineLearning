{
 "cells": [
  {
   "cell_type": "code",
   "execution_count": null,
   "id": "53ce0703",
   "metadata": {},
   "outputs": [],
   "source": [
    "## ttest examples"
   ]
  },
  {
   "cell_type": "code",
   "execution_count": 1,
   "id": "22883ae4",
   "metadata": {},
   "outputs": [],
   "source": [
    "ages = [10,20,35,50,28,40,55,30,25,43,18,30,28,14,24,16,17,32,25,26,27,65,18,43,23,21,20,19,70]"
   ]
  },
  {
   "cell_type": "code",
   "execution_count": 2,
   "id": "9e3a01dc",
   "metadata": {},
   "outputs": [
    {
     "data": {
      "text/plain": [
       "29"
      ]
     },
     "execution_count": 2,
     "metadata": {},
     "output_type": "execute_result"
    }
   ],
   "source": [
    "len(ages)"
   ]
  },
  {
   "cell_type": "code",
   "execution_count": 3,
   "id": "7f95b3f7",
   "metadata": {},
   "outputs": [
    {
     "data": {
      "text/plain": [
       "30.06896551724138"
      ]
     },
     "execution_count": 3,
     "metadata": {},
     "output_type": "execute_result"
    }
   ],
   "source": [
    "import numpy as np\n",
    "ages_mean = np.mean(ages)\n",
    "ages_mean"
   ]
  },
  {
   "cell_type": "code",
   "execution_count": 4,
   "id": "52509f60",
   "metadata": {},
   "outputs": [],
   "source": [
    "age_sample = np.random.choice(ages,15)"
   ]
  },
  {
   "cell_type": "code",
   "execution_count": 5,
   "id": "7ce9b9dc",
   "metadata": {},
   "outputs": [
    {
     "data": {
      "text/plain": [
       "array([17, 30, 30, 30, 18, 40, 30, 18, 27, 20, 10, 28, 43, 24, 70])"
      ]
     },
     "execution_count": 5,
     "metadata": {},
     "output_type": "execute_result"
    }
   ],
   "source": [
    "age_sample"
   ]
  },
  {
   "cell_type": "code",
   "execution_count": 7,
   "id": "819a19a8",
   "metadata": {},
   "outputs": [],
   "source": [
    "from scipy.stats import ttest_1samp"
   ]
  },
  {
   "cell_type": "code",
   "execution_count": 8,
   "id": "2dcffaa9",
   "metadata": {},
   "outputs": [],
   "source": [
    "ttest,p_value=ttest_1samp(age_sample,ages_mean)"
   ]
  },
  {
   "cell_type": "code",
   "execution_count": 9,
   "id": "c91a33ab",
   "metadata": {},
   "outputs": [
    {
     "data": {
      "text/plain": [
       "0.776321060457462"
      ]
     },
     "execution_count": 9,
     "metadata": {},
     "output_type": "execute_result"
    }
   ],
   "source": [
    "p_value"
   ]
  },
  {
   "cell_type": "code",
   "execution_count": 11,
   "id": "ce9cacd8",
   "metadata": {},
   "outputs": [],
   "source": [
    "## New Example"
   ]
  },
  {
   "cell_type": "code",
   "execution_count": 12,
   "id": "8e4f7469",
   "metadata": {},
   "outputs": [],
   "source": [
    "import scipy.stats as stats\n"
   ]
  },
  {
   "cell_type": "code",
   "execution_count": 13,
   "id": "ee6d33e9",
   "metadata": {},
   "outputs": [],
   "source": [
    "import math\n",
    "school_ages = stats.poisson.rvs(loc=18,mu=35,size=1500)\n",
    "classA_ages=stats.poisson.rvs(loc=18,mu=30,size=60)"
   ]
  },
  {
   "cell_type": "code",
   "execution_count": 14,
   "id": "c740c87e",
   "metadata": {},
   "outputs": [
    {
     "data": {
      "text/plain": [
       "52.830666666666666"
      ]
     },
     "execution_count": 14,
     "metadata": {},
     "output_type": "execute_result"
    }
   ],
   "source": [
    "school_ages.mean()"
   ]
  },
  {
   "cell_type": "code",
   "execution_count": 18,
   "id": "05eb0754",
   "metadata": {},
   "outputs": [],
   "source": [
    "ttest,p_value = stats.ttest_1samp(classA_ages,school_ages.mean())"
   ]
  },
  {
   "cell_type": "code",
   "execution_count": 16,
   "id": "f116b801",
   "metadata": {},
   "outputs": [
    {
     "data": {
      "text/plain": [
       "9.529638707532565e-11"
      ]
     },
     "execution_count": 16,
     "metadata": {},
     "output_type": "execute_result"
    }
   ],
   "source": [
    "p_value"
   ]
  }
 ],
 "metadata": {
  "kernelspec": {
   "display_name": "Python 3",
   "language": "python",
   "name": "python3"
  },
  "language_info": {
   "codemirror_mode": {
    "name": "ipython",
    "version": 3
   },
   "file_extension": ".py",
   "mimetype": "text/x-python",
   "name": "python",
   "nbconvert_exporter": "python",
   "pygments_lexer": "ipython3",
   "version": "3.8.8"
  }
 },
 "nbformat": 4,
 "nbformat_minor": 5
}
