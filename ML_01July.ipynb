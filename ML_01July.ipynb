{
 "cells": [
  {
   "cell_type": "code",
   "execution_count": 13,
   "id": "dce04412",
   "metadata": {},
   "outputs": [],
   "source": [
    "import numpy as np\n",
    "var1 = np.array(([2,4,6],[1,3,5]))"
   ]
  },
  {
   "cell_type": "code",
   "execution_count": 10,
   "id": "dec855de",
   "metadata": {},
   "outputs": [],
   "source": [
    "var2= np.array(([5,9,3],[6,7,15]))"
   ]
  },
  {
   "cell_type": "code",
   "execution_count": 14,
   "id": "693c8930",
   "metadata": {},
   "outputs": [
    {
     "data": {
      "text/plain": [
       "array([[0.4       , 0.44444444, 2.        ],\n",
       "       [0.16666667, 0.42857143, 0.33333333]])"
      ]
     },
     "execution_count": 14,
     "metadata": {},
     "output_type": "execute_result"
    }
   ],
   "source": [
    "var1/var2"
   ]
  },
  {
   "cell_type": "code",
   "execution_count": 15,
   "id": "8c26dfe3",
   "metadata": {},
   "outputs": [
    {
     "data": {
      "text/plain": [
       "array([2, 4, 6, 1, 3, 5])"
      ]
     },
     "execution_count": 15,
     "metadata": {},
     "output_type": "execute_result"
    }
   ],
   "source": [
    "var1.ravel()"
   ]
  },
  {
   "cell_type": "code",
   "execution_count": 16,
   "id": "a06ca24a",
   "metadata": {},
   "outputs": [
    {
     "data": {
      "text/plain": [
       "21"
      ]
     },
     "execution_count": 16,
     "metadata": {},
     "output_type": "execute_result"
    }
   ],
   "source": [
    "var1.sum()"
   ]
  },
  {
   "cell_type": "code",
   "execution_count": 17,
   "id": "7cd9c560",
   "metadata": {},
   "outputs": [
    {
     "data": {
      "text/plain": [
       "array([[1.41421356, 2.        , 2.44948974],\n",
       "       [1.        , 1.73205081, 2.23606798]])"
      ]
     },
     "execution_count": 17,
     "metadata": {},
     "output_type": "execute_result"
    }
   ],
   "source": [
    "np.sqrt(var1)"
   ]
  },
  {
   "cell_type": "code",
   "execution_count": 18,
   "id": "b4196a24",
   "metadata": {},
   "outputs": [
    {
     "data": {
      "text/plain": [
       "1.707825127659933"
      ]
     },
     "execution_count": 18,
     "metadata": {},
     "output_type": "execute_result"
    }
   ],
   "source": [
    "np.std(var1)"
   ]
  },
  {
   "cell_type": "code",
   "execution_count": 19,
   "id": "f566f60a",
   "metadata": {},
   "outputs": [
    {
     "data": {
      "text/plain": [
       "3.8188130791298667"
      ]
     },
     "execution_count": 19,
     "metadata": {},
     "output_type": "execute_result"
    }
   ],
   "source": [
    "np.std(var2)"
   ]
  },
  {
   "cell_type": "code",
   "execution_count": 22,
   "id": "67f66f56",
   "metadata": {},
   "outputs": [
    {
     "data": {
      "text/plain": [
       "array([[2, 4, 6],\n",
       "       [1, 3, 5]])"
      ]
     },
     "execution_count": 22,
     "metadata": {},
     "output_type": "execute_result"
    }
   ],
   "source": [
    "var1"
   ]
  },
  {
   "cell_type": "code",
   "execution_count": 21,
   "id": "6d117f4a",
   "metadata": {},
   "outputs": [
    {
     "data": {
      "text/plain": [
       "array([[  7.3890561 ,  54.59815003, 403.42879349],\n",
       "       [  2.71828183,  20.08553692, 148.4131591 ]])"
      ]
     },
     "execution_count": 21,
     "metadata": {},
     "output_type": "execute_result"
    }
   ],
   "source": [
    "np.exp(var1)"
   ]
  },
  {
   "cell_type": "code",
   "execution_count": 23,
   "id": "3b265b2a",
   "metadata": {},
   "outputs": [
    {
     "data": {
      "text/plain": [
       "array([[1.48413159e+02, 8.10308393e+03, 2.00855369e+01],\n",
       "       [4.03428793e+02, 1.09663316e+03, 3.26901737e+06]])"
      ]
     },
     "execution_count": 23,
     "metadata": {},
     "output_type": "execute_result"
    }
   ],
   "source": [
    "np.exp(var2)"
   ]
  },
  {
   "cell_type": "code",
   "execution_count": 24,
   "id": "e8fb2812",
   "metadata": {},
   "outputs": [],
   "source": [
    "var3 = np.array([3,6,9])"
   ]
  },
  {
   "cell_type": "code",
   "execution_count": 25,
   "id": "ff7ed5ba",
   "metadata": {},
   "outputs": [
    {
     "data": {
      "text/plain": [
       "array([  20.08553692,  403.42879349, 8103.08392758])"
      ]
     },
     "execution_count": 25,
     "metadata": {},
     "output_type": "execute_result"
    }
   ],
   "source": [
    "np.exp(var3)"
   ]
  },
  {
   "cell_type": "code",
   "execution_count": 26,
   "id": "1ed8328d",
   "metadata": {},
   "outputs": [
    {
     "data": {
      "text/plain": [
       "array([[0.69314718, 1.38629436, 1.79175947],\n",
       "       [0.        , 1.09861229, 1.60943791]])"
      ]
     },
     "execution_count": 26,
     "metadata": {},
     "output_type": "execute_result"
    }
   ],
   "source": [
    "np.log(var1)"
   ]
  },
  {
   "cell_type": "code",
   "execution_count": 27,
   "id": "c8655c38",
   "metadata": {},
   "outputs": [
    {
     "data": {
      "text/plain": [
       "array([1.09861229, 1.79175947, 2.19722458])"
      ]
     },
     "execution_count": 27,
     "metadata": {},
     "output_type": "execute_result"
    }
   ],
   "source": [
    "np.log(var3)"
   ]
  },
  {
   "cell_type": "code",
   "execution_count": 28,
   "id": "94b5ae0d",
   "metadata": {},
   "outputs": [
    {
     "data": {
      "text/plain": [
       "array([[2, 4, 6],\n",
       "       [1, 3, 5]])"
      ]
     },
     "execution_count": 28,
     "metadata": {},
     "output_type": "execute_result"
    }
   ],
   "source": [
    "var1"
   ]
  },
  {
   "cell_type": "code",
   "execution_count": 30,
   "id": "b749c6db",
   "metadata": {},
   "outputs": [
    {
     "data": {
      "text/plain": [
       "array([3, 6, 9])"
      ]
     },
     "execution_count": 30,
     "metadata": {},
     "output_type": "execute_result"
    }
   ],
   "source": [
    "var3"
   ]
  },
  {
   "cell_type": "code",
   "execution_count": 31,
   "id": "6b4981ed",
   "metadata": {},
   "outputs": [
    {
     "data": {
      "text/plain": [
       "array([  20.08553692,  403.42879349, 8103.08392758])"
      ]
     },
     "execution_count": 31,
     "metadata": {},
     "output_type": "execute_result"
    }
   ],
   "source": [
    "np.exp(var3)"
   ]
  }
 ],
 "metadata": {
  "kernelspec": {
   "display_name": "Python 3",
   "language": "python",
   "name": "python3"
  },
  "language_info": {
   "codemirror_mode": {
    "name": "ipython",
    "version": 3
   },
   "file_extension": ".py",
   "mimetype": "text/x-python",
   "name": "python",
   "nbconvert_exporter": "python",
   "pygments_lexer": "ipython3",
   "version": "3.8.8"
  }
 },
 "nbformat": 4,
 "nbformat_minor": 5
}
